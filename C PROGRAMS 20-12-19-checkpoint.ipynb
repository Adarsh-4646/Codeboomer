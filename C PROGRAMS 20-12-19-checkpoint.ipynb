{
 "cells": [
  {
   "cell_type": "code",
   "execution_count": null,
   "metadata": {},
   "outputs": [],
   "source": [
    "#include<stdio.h>\n",
    "int main()\n",
    "{\n",
    "\tint a,b;\n",
    "\tprintf(\"enter the number: \");\n",
    "\tscanf(\"%d\",&a);\n",
    "\tif((a%5==0)&&(a%3==0))\n",
    "\t{\n",
    "\t\tprintf(\"yes\");\n",
    "\t}\n",
    "\telse\n",
    "\t{\n",
    "\t\tprintf(\"no\");\n",
    "\t}\n",
    "\treturn 0;\n",
    "}"
   ]
  },
  {
   "cell_type": "markdown",
   "metadata": {},
   "source": [
    "#  read the input as a character and print as \"upper case\",\"lower case\" \"digit\"\n",
    " - Test cases\n",
    " -------------\n",
    "  'a'--lower case\n",
    "  'b'--upper case\n",
    "  '8'--digit"
   ]
  },
  {
   "cell_type": "markdown",
   "metadata": {},
   "source": [
    "# read the number and test wether it is perfectly divisible by 3 and 5 or not\n"
   ]
  },
  {
   "cell_type": "code",
   "execution_count": null,
   "metadata": {},
   "outputs": [],
   "source": [
    "#include<stdio.h>\n",
    "int main()\n",
    "{\n",
    "\tchar a;\n",
    "\tscanf(\"%c\",&a);\n",
    "\tif(a>65&&a<90)\n",
    "\t{\n",
    "\t\tprintf(\"upper case\");\n",
    "\t}\n",
    "\telse if(a>97&&a<122)\n",
    "\t{\n",
    "\t\tprintf(\"lowe case\");\n",
    "\t}\n",
    "\telse if(a>=48&&a<=57)\n",
    "\t{\n",
    "\t"
   ]
  },
  {
   "cell_type": "markdown",
   "metadata": {},
   "source": [
    "#  check wether the given character is a consonant or vowel"
   ]
  },
  {
   "cell_type": "code",
   "execution_count": 1,
   "metadata": {},
   "outputs": [
    {
     "ename": "SyntaxError",
     "evalue": "invalid syntax (<ipython-input-1-4ef771ca00f1>, line 2)",
     "output_type": "error",
     "traceback": [
      "\u001b[1;36m  File \u001b[1;32m\"<ipython-input-1-4ef771ca00f1>\"\u001b[1;36m, line \u001b[1;32m2\u001b[0m\n\u001b[1;33m    int main()\u001b[0m\n\u001b[1;37m           ^\u001b[0m\n\u001b[1;31mSyntaxError\u001b[0m\u001b[1;31m:\u001b[0m invalid syntax\n"
     ]
    }
   ],
   "source": [
    "#include<stdio.h>\n",
    "int main()\n",
    "{\n",
    "\tchar a;\n",
    "\tprintf(\"enter a character\");\n",
    "\tscanf(\"%c\",&a);\n",
    "\tif(a=='a'||'e'||'i'||'o'||'u')\n",
    "\t{\n",
    "\t\tprintf(\"its a vowel\");\n",
    "\t}\n",
    "\telse\n",
    "\t{\n",
    "\t\tprintf(\"its a consonant\");\n",
    "\t}\n",
    "\treturn 0;\n",
    "}"
   ]
  },
  {
   "cell_type": "markdown",
   "metadata": {},
   "source": [
    "# read the input as a number between 1 to 7  and print the output as \"Day of the week\""
   ]
  },
  {
   "cell_type": "code",
   "execution_count": 2,
   "metadata": {},
   "outputs": [
    {
     "ename": "SyntaxError",
     "evalue": "invalid syntax (<ipython-input-2-a6ee4a754efb>, line 2)",
     "output_type": "error",
     "traceback": [
      "\u001b[1;36m  File \u001b[1;32m\"<ipython-input-2-a6ee4a754efb>\"\u001b[1;36m, line \u001b[1;32m2\u001b[0m\n\u001b[1;33m    int main()\u001b[0m\n\u001b[1;37m           ^\u001b[0m\n\u001b[1;31mSyntaxError\u001b[0m\u001b[1;31m:\u001b[0m invalid syntax\n"
     ]
    }
   ],
   "source": [
    "#include<stdio.h>\n",
    "int main()\n",
    "{\n",
    "\tint x;\n",
    "\tscanf(\"%d\",&x);\n",
    "\tswitch(x)\n",
    "\t{\n",
    "\t\tcase 1:printf(\"sunday\");\n",
    "\t\tbreak;\n",
    "\t\tcase 2:printf(\"monday\");\n",
    "\t\tbreak;\n",
    "\t\tcase 3:printf(\"tuesday\");\n",
    "\t\tbreak;\n",
    "\t\tcase 4:printf(\"wednesday\");\n",
    "\t\tbreak;\n",
    "\t\tcase 5:printf(\"thursday\");\n",
    "\t\tbreak;\n",
    "\t\tcase 6:printf(\"friday\");\n",
    "\t\tbreak;\n",
    "\t\tcase 7:printf(\"saturday\");\n",
    "\t\tbreak;\n",
    "\t\t\n",
    "\t\tdefault:\n",
    "\t\t\tprintf(\"default\");\n",
    "\t\t\tbreak;\n",
    "\t}\n",
    "\treturn 0;\n",
    "}"
   ]
  },
  {
   "cell_type": "markdown",
   "metadata": {},
   "source": [
    "# find out the given character is vowel or not"
   ]
  },
  {
   "cell_type": "code",
   "execution_count": 3,
   "metadata": {},
   "outputs": [
    {
     "ename": "SyntaxError",
     "evalue": "invalid syntax (<ipython-input-3-8492be8523d8>, line 2)",
     "output_type": "error",
     "traceback": [
      "\u001b[1;36m  File \u001b[1;32m\"<ipython-input-3-8492be8523d8>\"\u001b[1;36m, line \u001b[1;32m2\u001b[0m\n\u001b[1;33m    int main()\u001b[0m\n\u001b[1;37m           ^\u001b[0m\n\u001b[1;31mSyntaxError\u001b[0m\u001b[1;31m:\u001b[0m invalid syntax\n"
     ]
    }
   ],
   "source": [
    "#include<stdio.h>\n",
    "int main()\n",
    "{\n",
    "\tchar x;\n",
    "\tscanf(\"%c\",&x);\n",
    "\tswitch(x)\n",
    "\t{\n",
    "\t\tcase'A':\n",
    "\t\t\n",
    "\t\tcase'E':\n",
    "\t\n",
    "\t\tcase'I':\n",
    "\t\t\n",
    "\t\tcase'O':\n",
    "\t\n",
    "\t\tcase'U':\n",
    "\t\t\n",
    "\t\tcase'a':\n",
    "\t\t\n",
    "\t\tcase'e':\n",
    "\t\n",
    "\t\tcase'i':\n",
    "\t\t\n",
    "\t\tcase'o':\n",
    "\t\n",
    "\t\tcase'u':\n",
    "\t\t\t\tprintf(\"vowels\");\n",
    "\t\tbreak;\n",
    "\t\n",
    "\t\t\n",
    "\t\tdefault:\n",
    "\t\t\tprintf(\"consonants\");\n",
    "\t\t\tbreak;\n",
    "\t}\n",
    "\treturn 0;\n",
    "}"
   ]
  },
  {
   "cell_type": "markdown",
   "metadata": {},
   "source": [
    "# find out the largest number and print the multication  of other digits"
   ]
  },
  {
   "cell_type": "code",
   "execution_count": 4,
   "metadata": {},
   "outputs": [
    {
     "ename": "SyntaxError",
     "evalue": "invalid syntax (<ipython-input-4-d3c4b43adc30>, line 2)",
     "output_type": "error",
     "traceback": [
      "\u001b[1;36m  File \u001b[1;32m\"<ipython-input-4-d3c4b43adc30>\"\u001b[1;36m, line \u001b[1;32m2\u001b[0m\n\u001b[1;33m    int main()\u001b[0m\n\u001b[1;37m           ^\u001b[0m\n\u001b[1;31mSyntaxError\u001b[0m\u001b[1;31m:\u001b[0m invalid syntax\n"
     ]
    }
   ],
   "source": [
    "#include<stdio.h>\n",
    "int main()\n",
    "{\n",
    "\tint a,b,c;\n",
    "\tscanf(\"%d %d %d\",&a,&b,&c);\n",
    "\tif((a>b)&&(a>c))\n",
    "\t{\n",
    "\t\tprintf(\"mul:%d\",b*c);\n",
    "\t\t\n",
    "\t}\n",
    "\telse if((b>a)&&(b>c))\n",
    "\t{\n",
    "\t\tprintf(\"mul:%d\",a*c);\n",
    "\t}\n",
    "\telse\n",
    "\t{\n",
    "\t\tprintf(\"mul:%d\",a*b);\n",
    "\t}\n",
    "\treturn 0;\n",
    "}"
   ]
  },
  {
   "cell_type": "markdown",
   "metadata": {},
   "source": [
    "# print the number seprately"
   ]
  },
  {
   "cell_type": "code",
   "execution_count": 1,
   "metadata": {},
   "outputs": [
    {
     "ename": "SyntaxError",
     "evalue": "invalid syntax (<ipython-input-1-ee01a4c070e9>, line 2)",
     "output_type": "error",
     "traceback": [
      "\u001b[1;36m  File \u001b[1;32m\"<ipython-input-1-ee01a4c070e9>\"\u001b[1;36m, line \u001b[1;32m2\u001b[0m\n\u001b[1;33m    int main()\u001b[0m\n\u001b[1;37m           ^\u001b[0m\n\u001b[1;31mSyntaxError\u001b[0m\u001b[1;31m:\u001b[0m invalid syntax\n"
     ]
    }
   ],
   "source": [
    "#include<stdio.h>\n",
    "int main()\n",
    "{\n",
    "\tint a,i;\n",
    "\tscanf(\"%d\",&a);\n",
    "\twhile(a!=0)\n",
    "\t{\n",
    "\t\t\n",
    "\t\ti=a%10;\n",
    "\t\tprintf(\" %d \", i);\n",
    "\t\ta=a/10;\n",
    "\t\t\n",
    "\t\t#\n",
    "\t}\n",
    "\treturn 0;\n",
    "}"
   ]
  },
  {
   "cell_type": "markdown",
   "metadata": {},
   "source": [
    "# read the number as input and print the output as large digit of the given number"
   ]
  },
  {
   "cell_type": "code",
   "execution_count": null,
   "metadata": {},
   "outputs": [],
   "source": [
    "#include<stdio.h>\n",
    "int main()\n",
    "{\n",
    "\tint r,large=0;\n",
    "\tlong x;\n",
    "\tscanf(\"%ld\",&x);\n",
    "\twhile(x!=0)\n",
    "\t{\n",
    "\t\tr=x%10;\n",
    "\t\tif(r>large)\n",
    "\t\t{\n",
    "\t\t\tlarge=r;\n",
    "\t\t}\n",
    "\t\tx=x/10;\n",
    "\t\t\n",
    "\t}\n",
    "\tprintf(\"%d\",large);\n",
    "\treturn 0;\n",
    "}"
   ]
  },
  {
   "cell_type": "markdown",
   "metadata": {},
   "source": [
    "# read the number as input and print the output as large digit from last three positions"
   ]
  },
  {
   "cell_type": "code",
   "execution_count": null,
   "metadata": {},
   "outputs": [],
   "source": [
    "#include<stdio.h>\n",
    "int main()\n",
    "{\n",
    "\tint r,large=0,cnt=0;\n",
    "\tlong x;\n",
    "\tscanf(\"%ld\",&x);\n",
    "\twhile(cnt!=3)\n",
    "\t{\n",
    "\t\tr=x%10;\n",
    "\t\tif(r>large)\n",
    "\t\t{\n",
    "\t\t\tlarge=r;\n",
    "\t\t}\n",
    "\t\tx=x/10;\n",
    "\t\tcnt++;\n",
    "\t\t\n",
    "\t}\n",
    "\tprintf(\"%d\",large);\n",
    "\treturn 0;\n",
    "}"
   ]
  },
  {
   "cell_type": "markdown",
   "metadata": {},
   "source": [
    "# read the number as a input and print the output as follow\n",
    "\n",
    "-test cases:\n",
    "----------------\n",
    "89261<1,9>\n",
    "97268<2,9>"
   ]
  },
  {
   "cell_type": "code",
   "execution_count": 2,
   "metadata": {},
   "outputs": [
    {
     "ename": "SyntaxError",
     "evalue": "invalid syntax (<ipython-input-2-3ec7c2244594>, line 2)",
     "output_type": "error",
     "traceback": [
      "\u001b[1;36m  File \u001b[1;32m\"<ipython-input-2-3ec7c2244594>\"\u001b[1;36m, line \u001b[1;32m2\u001b[0m\n\u001b[1;33m    int main()\u001b[0m\n\u001b[1;37m           ^\u001b[0m\n\u001b[1;31mSyntaxError\u001b[0m\u001b[1;31m:\u001b[0m invalid syntax\n"
     ]
    }
   ],
   "source": [
    "#include<stdio.h>\n",
    "int main()\n",
    "{\n",
    "\tint r,large=0,small=9;\n",
    "\tlong x;\n",
    "\tscanf(\"%ld\",&x);\n",
    "\twhile(x!=0)\n",
    "\t{\n",
    "\t\tr=x%10;\n",
    "\t\tif(r>large)\n",
    "\t\t{\n",
    "\t\t\tlarge=r;\n",
    "\t\t}\n",
    "\t\t\n",
    "\t\tif(r<small)\n",
    "\t\t{\n",
    "\t\t\tsmall=r;\n",
    "\t\t}\n",
    "\t\tx=x/10;\n",
    "\t\t\n",
    "\t}\n",
    "\tprintf(\"<%d %d>\",small,large);\n",
    "\treturn 0;\n",
    "}\n"
   ]
  },
  {
   "cell_type": "markdown",
   "metadata": {},
   "source": [
    "# read the number A input and print the output in the given format"
   ]
  },
  {
   "cell_type": "code",
   "execution_count": null,
   "metadata": {},
   "outputs": [],
   "source": [
    "#include<stdio.h>\n",
    "int main()\n",
    "{\n",
    "\tint a,i,n;\n",
    "\tscanf(\"%d\",&a);\n",
    "\twhile(a!=0)\n",
    "\t{\n",
    "\t\t\n",
    "\t\ti=a%10;\n",
    "\t\ta=a/10;\n",
    "\t\tswitch(i)\n",
    "\t\t{\n",
    "\t\t\tcase 1:printf(\"ONE \");break;\n",
    "\t\t\tcase 2:printf(\"two \");break;\n",
    "\t\t\tcase 3:printf(\"three \");break;\n",
    "\t\t\tcase 4:printf(\"four \");break;\n",
    "\t\t\tcase 5:printf(\"five \");break;\n",
    "\t\t\tcase 6:printf(\"six \");break;\n",
    "\t\t\tcase 7:printf(\"seven \");break;\n",
    "\t\t\tcase 8:printf(\"eight \");break;\n",
    "\t\t\tcase 9:printf(\"nine \");break;\n",
    "\t\t\tcase 0:printf(\"zero \");break;\n",
    "\t\t\t\n",
    "\t\t}\n",
    "\t\t\n",
    "\t\t\n",
    "\t\t\n",
    "\t\t\n",
    "\t}\n",
    "\treturn 0;\n",
    "}"
   ]
  },
  {
   "cell_type": "markdown",
   "metadata": {},
   "source": [
    "# read the input as number and print the output as sum of even digits of the given number\n"
   ]
  },
  {
   "cell_type": "code",
   "execution_count": null,
   "metadata": {},
   "outputs": [],
   "source": [
    "#include<stdio.h>\n",
    "int main()\n",
    "{\n",
    "\tint n,a,sum=0;\n",
    "\tscanf(\"%d\",&n);\n",
    "\twhile(n!=0)\n",
    "\t{\n",
    "\t\ta=n%10;\n",
    "\t\tif(a%2==0)\n",
    "\t\t{\n",
    "\t\t\tsum=sum+a;\n",
    "\t\t\t\n",
    "\t\t}\n",
    "\t\tn=n/10;\n",
    "\t}\n",
    "\tprintf(\"%d \",sum);\n",
    "\treturn 0;\n",
    "}"
   ]
  },
  {
   "cell_type": "markdown",
   "metadata": {},
   "source": [
    "# read the number as input and print the factors/divisor  for given number in the range 1 to n"
   ]
  },
  {
   "cell_type": "code",
   "execution_count": 3,
   "metadata": {},
   "outputs": [
    {
     "ename": "SyntaxError",
     "evalue": "invalid syntax (<ipython-input-3-d02ce0501db4>, line 2)",
     "output_type": "error",
     "traceback": [
      "\u001b[1;36m  File \u001b[1;32m\"<ipython-input-3-d02ce0501db4>\"\u001b[1;36m, line \u001b[1;32m2\u001b[0m\n\u001b[1;33m    int main()\u001b[0m\n\u001b[1;37m           ^\u001b[0m\n\u001b[1;31mSyntaxError\u001b[0m\u001b[1;31m:\u001b[0m invalid syntax\n"
     ]
    }
   ],
   "source": [
    "#include<stdio.h>\n",
    "int main()\n",
    "{\n",
    "\tint n;\n",
    "\tscanf(\"%d\",&n);\n",
    "\tint i=1,s=0;\n",
    "\twhile(i!=n)\n",
    "\t{\n",
    "\t\t\n",
    "\t\tif(n%i==0)\n",
    "\t\t{\n",
    "\t\t\tprintf(\"%d\",i);\n",
    "\t\t}\n",
    "\t\ti++;\n",
    "\t}\n",
    "\treturn 0;\n",
    "}"
   ]
  },
  {
   "cell_type": "markdown",
   "metadata": {},
   "source": [
    "# read the input as a number and print the output as follows\n",
    " TEST CASES\n",
    " - 1889-5\n",
    " - 12364-2\n",
    " - 1591-1\n",
    " - 1277-0"
   ]
  },
  {
   "cell_type": "code",
   "execution_count": 4,
   "metadata": {},
   "outputs": [
    {
     "ename": "SyntaxError",
     "evalue": "invalid syntax (<ipython-input-4-78e7870e90c0>, line 2)",
     "output_type": "error",
     "traceback": [
      "\u001b[1;36m  File \u001b[1;32m\"<ipython-input-4-78e7870e90c0>\"\u001b[1;36m, line \u001b[1;32m2\u001b[0m\n\u001b[1;33m    int main()\u001b[0m\n\u001b[1;37m           ^\u001b[0m\n\u001b[1;31mSyntaxError\u001b[0m\u001b[1;31m:\u001b[0m invalid syntax\n"
     ]
    }
   ],
   "source": [
    "#include<stdio.h>\n",
    "int main()\n",
    "{\n",
    "\tint sum=0,n;\n",
    "\tlong x;\n",
    "\tscanf(\"%ld\",&x);\n",
    "\t\n",
    "\twhile(x!=0)\n",
    "\t{\n",
    "\t\tn=x%10;\n",
    "\t\t\n",
    "\t\tswitch(n)\n",
    "\t\t{\n",
    "\t\t\tcase 4:sum=sum+1;break;\n",
    "\t\t\tcase 6:sum=sum+1;break;\n",
    "\t\t\tcase 8:sum=sum+2;break;\n",
    "\t\t\tcase 9:sum=sum+1;break;\n",
    "\t\t\tdefault:sum=sum+0;break;\n",
    "\t\t}\n",
    "\t\tx=x/10;\n",
    "\t\n",
    "\t}\n",
    "\t\tprintf(\"%d\",sum);\n",
    "\treturn 0;\n",
    "}"
   ]
  },
  {
   "cell_type": "markdown",
   "metadata": {},
   "source": [
    "# read the input as number and print the output is palindrome or not\n"
   ]
  },
  {
   "cell_type": "code",
   "execution_count": null,
   "metadata": {},
   "outputs": [],
   "source": [
    "#include<stdio.h>\n",
    "int main()\n",
    "{\n",
    "\tint r,rev=0;\n",
    "\tlong x;\n",
    "\tscanf(\"%ld\",&x);\n",
    "\tint buf=x;\n",
    "\twhile(x!=0)\n",
    "\t{\n",
    "\t\t\n",
    "\t\tr=x%10;\n",
    "\t\trev=rev*10+r;\n",
    "\t\tx=x/10;\n",
    "\t\t\n",
    "\t\t\n",
    "\t}\n",
    "\tif(rev==buf)\n",
    "\t{\n",
    "\t\tprintf(\"yes\");\n",
    "\t}\n",
    "\telse\n",
    "\t{\n",
    "\t\tprintf(\"no\");\n",
    "\t}\n",
    "\treturn 0;\n",
    "}"
   ]
  },
  {
   "cell_type": "markdown",
   "metadata": {},
   "source": [
    "# read the number reverse the number se wether its a prime number or not"
   ]
  },
  {
   "cell_type": "code",
   "execution_count": null,
   "metadata": {},
   "outputs": [],
   "source": [
    "#include<stdio.h>\n",
    "int reverse(int a)\n",
    "\n",
    "{\t\t\n",
    "\t\tint rev=0;\n",
    "\t\twhile(a!=0)\n",
    "\t\t{\n",
    "\t\t\n",
    "\t\trev=rev*10+(a%10);\n",
    "\t\ta=a/10;\n",
    "\t\t}\n",
    "\t\treturn rev;\n",
    "}\n",
    "int isPrime(int x)\n",
    "{\n",
    "\tint start =1,flag=0;\n",
    "\tfor(start=2;start<=(x/2);start++)\n",
    "\t{\n",
    "\t\tif(x%start==0)\n",
    "\t\t{\n",
    "\t\t\tflag=1;\n",
    "\t\t\tbreak;\n",
    "\t\t}\n",
    "\t}\n",
    "\tif(flag==0)\n",
    "\t{\n",
    "\t\treturn 1;\n",
    "\t\t\n",
    "\t}\n",
    "\telse\n",
    "\t{\n",
    "\t\treturn 0;\n",
    "\t}\n",
    "}\n",
    "\tint main()\n",
    "\t{\n",
    "\t\tint r,rev=0;\n",
    "\t\tint x,buffer;\n",
    "\t\tscanf(\"%ld\",&x);\n",
    "\t\tbuffer=reverse(x);\n",
    "\t\n",
    "\t\tif(isPrime(x)&&isPrime(buffer))\n",
    "\t\t{\n",
    "\t\t\tprintf(\"yes\");\n",
    "\t\t}\n",
    "\t\telse\n",
    "\t\t{\n",
    "\t\t\tprintf(\"no\");\n",
    "\t\t}\n",
    "\t\treturn 0;\n",
    "\t}\n",
    "\t\n"
   ]
  },
  {
   "cell_type": "markdown",
   "metadata": {},
   "source": [
    "#  read the two limits as input to program and print the output as even palindrome count"
   ]
  },
  {
   "cell_type": "code",
   "execution_count": null,
   "metadata": {},
   "outputs": [],
   "source": [
    "#include<stdio.h>\n",
    "int isPalindrome(int x)\n",
    "{\n",
    "\tint rev=0,buffer=x;\n",
    "\twhile(x!=0)\n",
    "\t{\n",
    "\t\trev=rev*10+(x%10);\n",
    "\t\tx/=10;\n",
    "\t\t}\n",
    "\t\tif(rev==buffer)\n",
    "\t\t{\n",
    "\t\t\treturn 1;\n",
    "\t\t\t\n",
    "\t\t\t}\n",
    "\t\telse\n",
    "\t\t{\n",
    "\t\t\treturn 0;\n",
    "\t\t\t}\t\n",
    "}\n",
    "int main()\n",
    "{\n",
    "\tint x1,x2,i,a,cnt=0;\n",
    "\tscanf(\"%d %d\",&x1,&x2);\n",
    "\tfor(i=x1;i<x2;i++)\n",
    "\t{\n",
    "\t\ta=isPalindrome(i);\n",
    "\t\tif(i%2==0)\n",
    "\t\t{\n",
    "\t\t\ta=isPalindrome(i);\n",
    "\t\t\tif(a==1)\n",
    "\t\t\t{\n",
    "\t\t\t\tprintf(\"%d \",i);\n",
    "\t\t\t\tcnt++;\n",
    "\t\t\t\t\n",
    "\t\t\t}\n",
    "\t\t\t\n",
    "\t\t\t\n",
    "\t\t}\n",
    "\t}\n",
    "\tprintf(\"\\n%d\",cnt);\n",
    "\treturn 0;\n",
    "}\n",
    "\t"
   ]
  },
  {
   "cell_type": "markdown",
   "metadata": {},
   "source": [
    "# "
   ]
  },
  {
   "cell_type": "code",
   "execution_count": null,
   "metadata": {},
   "outputs": [],
   "source": [
    "#include<stdio.h>\n",
    "int isPalindrome(int x)\n",
    "{\n",
    "\tint rev=0,temp=x;\n",
    "\twhile(x!=0)\n",
    "\t{\n",
    "\t\trev=rev*10+(x%10);\n",
    "\t\tx/=10;\n",
    "\t}\n",
    "\tif(temp==rev)\n",
    "\t{\n",
    "\t\treturn 1;\n",
    "\t\t\n",
    "\t}\n",
    "\telse\n",
    "\t{\n",
    "\t\treturn 0;\n",
    "\t}\n",
    "}\n",
    "\n",
    "\n",
    "int main()\n",
    "{\t\n",
    "\tint x1,x2,n,res,cnt=0;\n",
    "\tscanf(\"%d %d\",&x1,&x2);\n",
    "\tscanf(\"%d\",&n);\n",
    "\tfor(int i=x1;i<=x2;i++)\n",
    "\t{\n",
    "\t\tres=isPalindrome(i);\n",
    "\t\tif(res==1)\n",
    "\t\t{\n",
    "\t\t\tcnt++;\n",
    "\t\t\tif(cnt==n)\n",
    "\t\t\t{\n",
    "\t\t\t\tprintf(\"%d\",i);\n",
    "\t\t\t\tbreak;\n",
    "\t\t\t}\n",
    "\t\t}\n",
    "\t}\n",
    "}"
   ]
  },
  {
   "cell_type": "markdown",
   "metadata": {},
   "source": [
    "# read the input as number and print the output \"yes\" or \"no\"\n",
    "hint-individual digit factorial sum is same as original the yes or print no"
   ]
  },
  {
   "cell_type": "code",
   "execution_count": null,
   "metadata": {},
   "outputs": [],
   "source": [
    "#include<stdio.h>\n",
    "int fact(int x)\n",
    "{\n",
    "\tint i,f=1;\n",
    "\tfor(i=x;i>0;i--)\n",
    "\t{\n",
    "\t\tf=f*i;\n",
    "\t\t\n",
    "\t\t\n",
    "\t}\n",
    "\treturn f;\n",
    "\t\n",
    "\n",
    "}\n",
    "int main()\n",
    "{\n",
    "\tint a,r,sum=0,temp;\n",
    "\tscanf(\"%d\",&a);\n",
    "\ttemp=a;\n",
    "\twhile(a!=0)\n",
    "\t{\n",
    "\t\tr=a%10;\n",
    "\t\tfact(r);\n",
    "\t\tsum=sum+fact(r);\n",
    "\t\ta/=10;\n",
    "\t}\n",
    "\tif(temp==sum)\n",
    "\t{\n",
    "\t\tprintf(\"yes\");\n",
    "\t\t\n",
    "\t}\n",
    "\telse\n",
    "\t{\n",
    "\t\tprintf(\"no\");\n",
    "\t}\n",
    "}"
   ]
  },
  {
   "cell_type": "markdown",
   "metadata": {},
   "source": [
    "##"
   ]
  },
  {
   "cell_type": "code",
   "execution_count": null,
   "metadata": {},
   "outputs": [],
   "source": [
    "#include<stdio.h>\n",
    "int main()\n",
    "{\n",
    "\tint i,n,r,x;\n",
    "\tscanf(\"%d\",&n);\n",
    "\twhile(n!=0)\n",
    "\t{\n",
    "\t\tr=n%10;\n",
    "\t\tprintf(\"$\");\n",
    "\t\tfor(i=1;i<=r;i++)\n",
    "\t\t{\n",
    "\t\t\tprintf(\"*\");\n",
    "\t\t\t\n",
    "\t\t}\n",
    "\t\tprintf(\"\\n\");\n",
    "\t\t\n",
    "\t\tn=n/10;\n",
    "}\n",
    "\treturn 0;\n",
    "}"
   ]
  },
  {
   "cell_type": "markdown",
   "metadata": {},
   "source": [
    "## read the input as number and print the output as sum of the digits by using power "
   ]
  },
  {
   "cell_type": "code",
   "execution_count": null,
   "metadata": {},
   "outputs": [],
   "source": [
    "#include<stdio.h>\n",
    "#include<math.h>\n",
    "int digitCount(int x)\n",
    "{\n",
    "\tint count=0;\n",
    "\twhile(x!=0)\n",
    "\t{\n",
    "\t\t\n",
    "\t\tcount++;\n",
    "\t\tx=x/10;\n",
    "\t}\n",
    "\treturn(count);\n",
    "\t\n",
    "}\n",
    "int main()\n",
    "{\n",
    "\tint a,count,sum=0,r,result;\n",
    "\tscanf(\"%d\",&a);\n",
    "\tcount=digitCount(a);\n",
    "\twhile(a!=0)\n",
    "\t{\n",
    "\t\tr=a%10;\n",
    "\t\tsum=sum+pow(r,count);\n",
    "\t\ta/=10;\n",
    "\t}\n",
    "\tprintf(\"%d\",sum);\n",
    "\treturn 0;\n",
    "}"
   ]
  },
  {
   "cell_type": "markdown",
   "metadata": {},
   "source": [
    "# read the input as an array and print the array"
   ]
  },
  {
   "cell_type": "code",
   "execution_count": null,
   "metadata": {},
   "outputs": [],
   "source": [
    "#include<stdio.h>\n",
    "int main()\n",
    "{\n",
    "\tint i,n,a[100];\n",
    "\tscanf(\"%d\",&n);\n",
    "\t//reads the values of an array upto n\n",
    "\tfor(int i=0;i<n;i++)\n",
    "\t{\n",
    "\t\tscanf(\"%d\",&a[i]);\n",
    "\t}\n",
    "\t// print the values of an array\n",
    "\tfor(i=0;i<n;i++)\n",
    "\t{\n",
    "\t\tprintf(\"%d\",a[i]);\n",
    "\t}\n",
    "\treturn 0;\n",
    "}"
   ]
  }
 ],
 "metadata": {
  "kernelspec": {
   "display_name": "Python 3",
   "language": "python",
   "name": "python3"
  },
  "language_info": {
   "codemirror_mode": {
    "name": "ipython",
    "version": 3
   },
   "file_extension": ".py",
   "mimetype": "text/x-python",
   "name": "python",
   "nbconvert_exporter": "python",
   "pygments_lexer": "ipython3",
   "version": "3.7.3"
  }
 },
 "nbformat": 4,
 "nbformat_minor": 2
}
